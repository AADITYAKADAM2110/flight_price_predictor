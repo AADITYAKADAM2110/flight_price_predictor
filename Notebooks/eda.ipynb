{
 "cells": [
  {
   "cell_type": "code",
   "execution_count": 55,
   "id": "6a01afce",
   "metadata": {},
   "outputs": [
    {
     "name": "stdout",
     "output_type": "stream",
     "text": [
      "Requirement already satisfied: scikit-learn in c:\\users\\dell\\desktop\\flight ticket prediction project\\.conda\\lib\\site-packages (1.7.1)\n",
      "Requirement already satisfied: numpy in c:\\users\\dell\\desktop\\flight ticket prediction project\\.conda\\lib\\site-packages (2.3.2)\n",
      "Requirement already satisfied: pandas in c:\\users\\dell\\desktop\\flight ticket prediction project\\.conda\\lib\\site-packages (2.3.1)\n",
      "Requirement already satisfied: matplotlib in c:\\users\\dell\\desktop\\flight ticket prediction project\\.conda\\lib\\site-packages (3.10.5)\n",
      "Requirement already satisfied: seaborn in c:\\users\\dell\\desktop\\flight ticket prediction project\\.conda\\lib\\site-packages (0.13.2)\n",
      "Requirement already satisfied: ipynb in c:\\users\\dell\\desktop\\flight ticket prediction project\\.conda\\lib\\site-packages (0.5.1)\n"
     ]
    },
    {
     "name": "stderr",
     "output_type": "stream",
     "text": [
      "ERROR: Could not find a version that satisfies the requirement categorical_encoders (from versions: none)\n",
      "ERROR: No matching distribution found for categorical_encoders\n"
     ]
    }
   ],
   "source": [
    "!pip install scikit-learn numpy pandas matplotlib seaborn ipynb categorical_encoders"
   ]
  },
  {
   "cell_type": "code",
   "execution_count": 1,
   "id": "4e42a8a7",
   "metadata": {},
   "outputs": [
    {
     "name": "stdout",
     "output_type": "stream",
     "text": [
      "Collecting xgboost\n",
      "  Downloading xgboost-3.0.3-py3-none-win_amd64.whl.metadata (2.1 kB)\n",
      "Collecting lightgbm\n",
      "  Using cached lightgbm-4.6.0-py3-none-win_amd64.whl.metadata (17 kB)\n",
      "Requirement already satisfied: numpy in c:\\users\\dell\\desktop\\flight ticket prediction project\\.conda\\lib\\site-packages (from xgboost) (2.3.2)\n",
      "Requirement already satisfied: scipy in c:\\users\\dell\\desktop\\flight ticket prediction project\\.conda\\lib\\site-packages (from xgboost) (1.16.1)\n",
      "Downloading xgboost-3.0.3-py3-none-win_amd64.whl (149.9 MB)\n",
      "   ---------------------------------------- 0.0/149.9 MB ? eta -:--:--\n",
      "   ---------------------------------------- 0.8/149.9 MB 6.7 MB/s eta 0:00:23\n",
      "   ---------------------------------------- 1.8/149.9 MB 5.6 MB/s eta 0:00:27\n",
      "    --------------------------------------- 2.9/149.9 MB 5.2 MB/s eta 0:00:29\n",
      "   - -------------------------------------- 3.9/149.9 MB 5.3 MB/s eta 0:00:28\n",
      "   - -------------------------------------- 5.0/149.9 MB 5.3 MB/s eta 0:00:28\n",
      "   - -------------------------------------- 6.0/149.9 MB 5.1 MB/s eta 0:00:29\n",
      "   - -------------------------------------- 7.1/149.9 MB 5.0 MB/s eta 0:00:29\n",
      "   -- ------------------------------------- 7.6/149.9 MB 4.9 MB/s eta 0:00:29\n",
      "   -- ------------------------------------- 8.7/149.9 MB 4.7 MB/s eta 0:00:30\n",
      "   -- ------------------------------------- 9.2/149.9 MB 4.6 MB/s eta 0:00:31\n",
      "   -- ------------------------------------- 10.0/149.9 MB 4.5 MB/s eta 0:00:32\n",
      "   -- ------------------------------------- 10.7/149.9 MB 4.4 MB/s eta 0:00:32\n",
      "   --- ------------------------------------ 11.3/149.9 MB 4.2 MB/s eta 0:00:33\n",
      "   --- ------------------------------------ 11.5/149.9 MB 4.1 MB/s eta 0:00:34\n",
      "   --- ------------------------------------ 12.1/149.9 MB 3.9 MB/s eta 0:00:36\n",
      "   --- ------------------------------------ 12.3/149.9 MB 3.8 MB/s eta 0:00:37\n",
      "   --- ------------------------------------ 12.6/149.9 MB 3.7 MB/s eta 0:00:38\n",
      "   --- ------------------------------------ 13.1/149.9 MB 3.5 MB/s eta 0:00:39\n",
      "   --- ------------------------------------ 13.6/149.9 MB 3.5 MB/s eta 0:00:40\n",
      "   --- ------------------------------------ 14.2/149.9 MB 3.4 MB/s eta 0:00:40\n",
      "   --- ------------------------------------ 14.9/149.9 MB 3.4 MB/s eta 0:00:40\n",
      "   ---- ----------------------------------- 15.5/149.9 MB 3.4 MB/s eta 0:00:40\n",
      "   ---- ----------------------------------- 16.0/149.9 MB 3.3 MB/s eta 0:00:41\n",
      "   ---- ----------------------------------- 16.5/149.9 MB 3.3 MB/s eta 0:00:41\n",
      "   ---- ----------------------------------- 17.0/149.9 MB 3.3 MB/s eta 0:00:41\n",
      "   ---- ----------------------------------- 17.8/149.9 MB 3.3 MB/s eta 0:00:41\n",
      "   ---- ----------------------------------- 18.1/149.9 MB 3.2 MB/s eta 0:00:41\n",
      "   ---- ----------------------------------- 18.6/149.9 MB 3.2 MB/s eta 0:00:42\n",
      "   ----- ---------------------------------- 18.9/149.9 MB 3.1 MB/s eta 0:00:42\n",
      "   ----- ---------------------------------- 19.4/149.9 MB 3.1 MB/s eta 0:00:42\n",
      "   ----- ---------------------------------- 19.9/149.9 MB 3.1 MB/s eta 0:00:43\n",
      "   ----- ---------------------------------- 20.2/149.9 MB 3.0 MB/s eta 0:00:43\n",
      "   ----- ---------------------------------- 20.7/149.9 MB 3.0 MB/s eta 0:00:44\n",
      "   ----- ---------------------------------- 21.2/149.9 MB 3.0 MB/s eta 0:00:44\n",
      "   ----- ---------------------------------- 21.8/149.9 MB 3.0 MB/s eta 0:00:44\n",
      "   ------ --------------------------------- 22.5/149.9 MB 3.0 MB/s eta 0:00:43\n",
      "   ------ --------------------------------- 23.1/149.9 MB 3.0 MB/s eta 0:00:43\n",
      "   ------ --------------------------------- 23.9/149.9 MB 3.0 MB/s eta 0:00:42\n",
      "   ------ --------------------------------- 24.6/149.9 MB 3.0 MB/s eta 0:00:42\n",
      "   ------ --------------------------------- 25.2/149.9 MB 3.0 MB/s eta 0:00:42\n",
      "   ------ --------------------------------- 25.7/149.9 MB 3.0 MB/s eta 0:00:42\n",
      "   ------ --------------------------------- 26.2/149.9 MB 3.0 MB/s eta 0:00:42\n",
      "   ------- -------------------------------- 27.0/149.9 MB 3.0 MB/s eta 0:00:42\n",
      "   ------- -------------------------------- 27.5/149.9 MB 3.0 MB/s eta 0:00:41\n",
      "   ------- -------------------------------- 28.0/149.9 MB 3.0 MB/s eta 0:00:41\n",
      "   ------- -------------------------------- 28.6/149.9 MB 3.0 MB/s eta 0:00:41\n",
      "   ------- -------------------------------- 29.1/149.9 MB 3.0 MB/s eta 0:00:41\n",
      "   ------- -------------------------------- 29.9/149.9 MB 3.0 MB/s eta 0:00:41\n",
      "   -------- ------------------------------- 30.4/149.9 MB 3.0 MB/s eta 0:00:41\n",
      "   -------- ------------------------------- 31.2/149.9 MB 3.0 MB/s eta 0:00:40\n",
      "   -------- ------------------------------- 32.0/149.9 MB 3.0 MB/s eta 0:00:40\n",
      "   -------- ------------------------------- 32.5/149.9 MB 3.0 MB/s eta 0:00:40\n",
      "   -------- ------------------------------- 33.3/149.9 MB 3.0 MB/s eta 0:00:39\n",
      "   --------- ------------------------------ 33.8/149.9 MB 3.0 MB/s eta 0:00:39\n",
      "   --------- ------------------------------ 34.3/149.9 MB 3.0 MB/s eta 0:00:39\n",
      "   --------- ------------------------------ 35.1/149.9 MB 3.0 MB/s eta 0:00:39\n",
      "   --------- ------------------------------ 35.9/149.9 MB 3.0 MB/s eta 0:00:39\n",
      "   --------- ------------------------------ 36.4/149.9 MB 3.0 MB/s eta 0:00:38\n",
      "   --------- ------------------------------ 37.2/149.9 MB 3.0 MB/s eta 0:00:38\n",
      "   ---------- ----------------------------- 38.0/149.9 MB 3.0 MB/s eta 0:00:38\n",
      "   ---------- ----------------------------- 39.1/149.9 MB 3.1 MB/s eta 0:00:37\n",
      "   ---------- ----------------------------- 39.8/149.9 MB 3.1 MB/s eta 0:00:36\n",
      "   ---------- ----------------------------- 40.4/149.9 MB 3.1 MB/s eta 0:00:36\n",
      "   ----------- ---------------------------- 41.7/149.9 MB 3.1 MB/s eta 0:00:35\n",
      "   ----------- ---------------------------- 42.5/149.9 MB 3.1 MB/s eta 0:00:35\n",
      "   ----------- ---------------------------- 43.5/149.9 MB 3.1 MB/s eta 0:00:34\n",
      "   ----------- ---------------------------- 44.3/149.9 MB 3.1 MB/s eta 0:00:34\n",
      "   ------------ --------------------------- 45.1/149.9 MB 3.2 MB/s eta 0:00:34\n",
      "   ------------ --------------------------- 45.6/149.9 MB 3.2 MB/s eta 0:00:34\n",
      "   ------------ --------------------------- 46.1/149.9 MB 3.1 MB/s eta 0:00:34\n",
      "   ------------ --------------------------- 46.7/149.9 MB 3.1 MB/s eta 0:00:33\n",
      "   ------------ --------------------------- 47.2/149.9 MB 3.1 MB/s eta 0:00:33\n",
      "   ------------ --------------------------- 48.0/149.9 MB 3.1 MB/s eta 0:00:33\n",
      "   ------------- -------------------------- 48.8/149.9 MB 3.1 MB/s eta 0:00:33\n",
      "   ------------- -------------------------- 49.5/149.9 MB 3.1 MB/s eta 0:00:32\n",
      "   ------------- -------------------------- 50.3/149.9 MB 3.2 MB/s eta 0:00:32\n",
      "   ------------- -------------------------- 51.4/149.9 MB 3.2 MB/s eta 0:00:32\n",
      "   ------------- -------------------------- 51.9/149.9 MB 3.2 MB/s eta 0:00:31\n",
      "   ------------- -------------------------- 52.4/149.9 MB 3.2 MB/s eta 0:00:31\n",
      "   ------------- -------------------------- 52.4/149.9 MB 3.2 MB/s eta 0:00:31\n",
      "   -------------- ------------------------- 53.0/149.9 MB 3.1 MB/s eta 0:00:32\n",
      "   -------------- ------------------------- 53.2/149.9 MB 3.1 MB/s eta 0:00:32\n",
      "   -------------- ------------------------- 53.5/149.9 MB 3.1 MB/s eta 0:00:32\n",
      "   -------------- ------------------------- 54.0/149.9 MB 3.1 MB/s eta 0:00:32\n",
      "   -------------- ------------------------- 54.3/149.9 MB 3.0 MB/s eta 0:00:32\n",
      "   -------------- ------------------------- 54.8/149.9 MB 3.0 MB/s eta 0:00:32\n",
      "   -------------- ------------------------- 55.6/149.9 MB 3.0 MB/s eta 0:00:32\n",
      "   --------------- ------------------------ 56.4/149.9 MB 3.0 MB/s eta 0:00:31\n",
      "   --------------- ------------------------ 56.9/149.9 MB 3.0 MB/s eta 0:00:31\n",
      "   --------------- ------------------------ 57.4/149.9 MB 3.0 MB/s eta 0:00:31\n",
      "   --------------- ------------------------ 57.7/149.9 MB 3.0 MB/s eta 0:00:31\n",
      "   --------------- ------------------------ 58.2/149.9 MB 3.0 MB/s eta 0:00:31\n",
      "   --------------- ------------------------ 58.5/149.9 MB 3.0 MB/s eta 0:00:31\n",
      "   --------------- ------------------------ 59.0/149.9 MB 3.0 MB/s eta 0:00:31\n",
      "   --------------- ------------------------ 59.8/149.9 MB 3.0 MB/s eta 0:00:31\n",
      "   ---------------- ----------------------- 60.6/149.9 MB 3.0 MB/s eta 0:00:30\n",
      "   ---------------- ----------------------- 61.3/149.9 MB 3.0 MB/s eta 0:00:30\n",
      "   ---------------- ----------------------- 62.1/149.9 MB 3.0 MB/s eta 0:00:30\n",
      "   ---------------- ----------------------- 62.9/149.9 MB 3.0 MB/s eta 0:00:29\n",
      "   ----------------- ---------------------- 64.0/149.9 MB 3.0 MB/s eta 0:00:29\n",
      "   ----------------- ---------------------- 64.5/149.9 MB 3.0 MB/s eta 0:00:29\n",
      "   ----------------- ---------------------- 65.3/149.9 MB 3.0 MB/s eta 0:00:28\n",
      "   ----------------- ---------------------- 65.8/149.9 MB 3.0 MB/s eta 0:00:28\n",
      "   ----------------- ---------------------- 66.3/149.9 MB 3.0 MB/s eta 0:00:28\n",
      "   ----------------- ---------------------- 66.8/149.9 MB 3.0 MB/s eta 0:00:28\n",
      "   ------------------ --------------------- 67.6/149.9 MB 3.0 MB/s eta 0:00:28\n",
      "   ------------------ --------------------- 68.4/149.9 MB 3.0 MB/s eta 0:00:27\n",
      "   ------------------ --------------------- 68.9/149.9 MB 3.0 MB/s eta 0:00:27\n",
      "   ------------------ --------------------- 69.7/149.9 MB 3.0 MB/s eta 0:00:27\n",
      "   ------------------ --------------------- 70.5/149.9 MB 3.0 MB/s eta 0:00:27\n",
      "   ------------------- -------------------- 71.3/149.9 MB 3.0 MB/s eta 0:00:26\n",
      "   ------------------- -------------------- 72.4/149.9 MB 3.1 MB/s eta 0:00:26\n",
      "   ------------------- -------------------- 73.1/149.9 MB 3.1 MB/s eta 0:00:26\n",
      "   ------------------- -------------------- 73.9/149.9 MB 3.1 MB/s eta 0:00:25\n",
      "   ------------------- -------------------- 74.7/149.9 MB 3.1 MB/s eta 0:00:25\n",
      "   -------------------- ------------------- 75.5/149.9 MB 3.1 MB/s eta 0:00:25\n",
      "   -------------------- ------------------- 76.3/149.9 MB 3.1 MB/s eta 0:00:24\n",
      "   -------------------- ------------------- 77.1/149.9 MB 3.1 MB/s eta 0:00:24\n",
      "   -------------------- ------------------- 77.9/149.9 MB 3.1 MB/s eta 0:00:24\n",
      "   -------------------- ------------------- 78.6/149.9 MB 3.1 MB/s eta 0:00:23\n",
      "   --------------------- ------------------ 79.7/149.9 MB 3.1 MB/s eta 0:00:23\n",
      "   --------------------- ------------------ 80.5/149.9 MB 3.1 MB/s eta 0:00:23\n",
      "   --------------------- ------------------ 81.3/149.9 MB 3.1 MB/s eta 0:00:22\n",
      "   --------------------- ------------------ 81.8/149.9 MB 3.1 MB/s eta 0:00:22\n",
      "   --------------------- ------------------ 82.3/149.9 MB 3.1 MB/s eta 0:00:22\n",
      "   ---------------------- ----------------- 82.8/149.9 MB 3.1 MB/s eta 0:00:22\n",
      "   ---------------------- ----------------- 83.4/149.9 MB 3.1 MB/s eta 0:00:22\n",
      "   ---------------------- ----------------- 83.9/149.9 MB 3.1 MB/s eta 0:00:22\n",
      "   ---------------------- ----------------- 84.1/149.9 MB 3.1 MB/s eta 0:00:22\n",
      "   ---------------------- ----------------- 84.9/149.9 MB 3.1 MB/s eta 0:00:21\n",
      "   ---------------------- ----------------- 85.5/149.9 MB 3.1 MB/s eta 0:00:21\n",
      "   ---------------------- ----------------- 86.0/149.9 MB 3.1 MB/s eta 0:00:21\n",
      "   ----------------------- ---------------- 86.8/149.9 MB 3.1 MB/s eta 0:00:21\n",
      "   ----------------------- ---------------- 87.3/149.9 MB 3.1 MB/s eta 0:00:21\n",
      "   ----------------------- ---------------- 88.1/149.9 MB 3.1 MB/s eta 0:00:20\n",
      "   ----------------------- ---------------- 88.9/149.9 MB 3.1 MB/s eta 0:00:20\n",
      "   ----------------------- ---------------- 89.7/149.9 MB 3.1 MB/s eta 0:00:20\n",
      "   ------------------------ --------------- 90.4/149.9 MB 3.1 MB/s eta 0:00:20\n",
      "   ------------------------ --------------- 91.2/149.9 MB 3.1 MB/s eta 0:00:19\n",
      "   ------------------------ --------------- 92.0/149.9 MB 3.1 MB/s eta 0:00:19\n",
      "   ------------------------ --------------- 92.8/149.9 MB 3.1 MB/s eta 0:00:19\n",
      "   ------------------------ --------------- 93.6/149.9 MB 3.1 MB/s eta 0:00:19\n",
      "   ------------------------- -------------- 94.4/149.9 MB 3.1 MB/s eta 0:00:18\n",
      "   ------------------------- -------------- 95.2/149.9 MB 3.1 MB/s eta 0:00:18\n",
      "   ------------------------- -------------- 95.9/149.9 MB 3.1 MB/s eta 0:00:18\n",
      "   ------------------------- -------------- 96.7/149.9 MB 3.1 MB/s eta 0:00:18\n",
      "   -------------------------- ------------- 97.5/149.9 MB 3.1 MB/s eta 0:00:18\n",
      "   -------------------------- ------------- 98.6/149.9 MB 3.1 MB/s eta 0:00:17\n",
      "   -------------------------- ------------- 99.6/149.9 MB 3.1 MB/s eta 0:00:17\n",
      "   -------------------------- ------------- 100.9/149.9 MB 3.1 MB/s eta 0:00:16\n",
      "   --------------------------- ------------ 102.0/149.9 MB 3.1 MB/s eta 0:00:16\n",
      "   --------------------------- ------------ 103.0/149.9 MB 3.1 MB/s eta 0:00:16\n",
      "   --------------------------- ------------ 104.3/149.9 MB 3.1 MB/s eta 0:00:15\n",
      "   ---------------------------- ----------- 105.1/149.9 MB 3.1 MB/s eta 0:00:15\n",
      "   ---------------------------- ----------- 105.9/149.9 MB 3.2 MB/s eta 0:00:14\n",
      "   ---------------------------- ----------- 107.0/149.9 MB 3.2 MB/s eta 0:00:14\n",
      "   ---------------------------- ----------- 107.7/149.9 MB 3.2 MB/s eta 0:00:14\n",
      "   ----------------------------- ---------- 108.8/149.9 MB 3.2 MB/s eta 0:00:13\n",
      "   ----------------------------- ---------- 109.8/149.9 MB 3.2 MB/s eta 0:00:13\n",
      "   ----------------------------- ---------- 110.9/149.9 MB 3.3 MB/s eta 0:00:12\n",
      "   ----------------------------- ---------- 111.9/149.9 MB 3.3 MB/s eta 0:00:12\n",
      "   ------------------------------ --------- 113.2/149.9 MB 3.3 MB/s eta 0:00:12\n",
      "   ------------------------------ --------- 114.3/149.9 MB 3.3 MB/s eta 0:00:11\n",
      "   ------------------------------ --------- 115.3/149.9 MB 3.3 MB/s eta 0:00:11\n",
      "   ------------------------------ --------- 116.1/149.9 MB 3.3 MB/s eta 0:00:11\n",
      "   ------------------------------- -------- 117.4/149.9 MB 3.4 MB/s eta 0:00:10\n",
      "   ------------------------------- -------- 118.5/149.9 MB 3.4 MB/s eta 0:00:10\n",
      "   ------------------------------- -------- 119.3/149.9 MB 3.4 MB/s eta 0:00:10\n",
      "   -------------------------------- ------- 120.1/149.9 MB 3.4 MB/s eta 0:00:09\n",
      "   -------------------------------- ------- 121.1/149.9 MB 3.4 MB/s eta 0:00:09\n",
      "   -------------------------------- ------- 121.9/149.9 MB 3.4 MB/s eta 0:00:09\n",
      "   -------------------------------- ------- 122.7/149.9 MB 3.4 MB/s eta 0:00:08\n",
      "   -------------------------------- ------- 123.5/149.9 MB 3.5 MB/s eta 0:00:08\n",
      "   --------------------------------- ------ 124.0/149.9 MB 3.5 MB/s eta 0:00:08\n",
      "   --------------------------------- ------ 124.5/149.9 MB 3.5 MB/s eta 0:00:08\n",
      "   --------------------------------- ------ 125.0/149.9 MB 3.5 MB/s eta 0:00:08\n",
      "   --------------------------------- ------ 125.6/149.9 MB 3.5 MB/s eta 0:00:08\n",
      "   --------------------------------- ------ 125.8/149.9 MB 3.4 MB/s eta 0:00:07\n",
      "   --------------------------------- ------ 126.4/149.9 MB 3.4 MB/s eta 0:00:07\n",
      "   --------------------------------- ------ 126.9/149.9 MB 3.4 MB/s eta 0:00:07\n",
      "   --------------------------------- ------ 127.4/149.9 MB 3.4 MB/s eta 0:00:07\n",
      "   ---------------------------------- ----- 128.2/149.9 MB 3.4 MB/s eta 0:00:07\n",
      "   ---------------------------------- ----- 128.7/149.9 MB 3.4 MB/s eta 0:00:07\n",
      "   ---------------------------------- ----- 129.2/149.9 MB 3.4 MB/s eta 0:00:07\n",
      "   ---------------------------------- ----- 130.0/149.9 MB 3.4 MB/s eta 0:00:06\n",
      "   ---------------------------------- ----- 130.8/149.9 MB 3.4 MB/s eta 0:00:06\n",
      "   ----------------------------------- ---- 131.6/149.9 MB 3.4 MB/s eta 0:00:06\n",
      "   ----------------------------------- ---- 132.6/149.9 MB 3.5 MB/s eta 0:00:05\n",
      "   ----------------------------------- ---- 133.4/149.9 MB 3.5 MB/s eta 0:00:05\n",
      "   ----------------------------------- ---- 134.2/149.9 MB 3.5 MB/s eta 0:00:05\n",
      "   ------------------------------------ --- 135.0/149.9 MB 3.5 MB/s eta 0:00:05\n",
      "   ------------------------------------ --- 136.1/149.9 MB 3.5 MB/s eta 0:00:04\n",
      "   ------------------------------------ --- 136.8/149.9 MB 3.5 MB/s eta 0:00:04\n",
      "   ------------------------------------ --- 137.9/149.9 MB 3.5 MB/s eta 0:00:04\n",
      "   ------------------------------------- -- 138.9/149.9 MB 3.5 MB/s eta 0:00:04\n",
      "   ------------------------------------- -- 140.0/149.9 MB 3.5 MB/s eta 0:00:03\n",
      "   ------------------------------------- -- 140.8/149.9 MB 3.5 MB/s eta 0:00:03\n",
      "   ------------------------------------- -- 141.6/149.9 MB 3.5 MB/s eta 0:00:03\n",
      "   -------------------------------------- - 142.6/149.9 MB 3.6 MB/s eta 0:00:03\n",
      "   -------------------------------------- - 143.4/149.9 MB 3.6 MB/s eta 0:00:02\n",
      "   -------------------------------------- - 144.2/149.9 MB 3.6 MB/s eta 0:00:02\n",
      "   -------------------------------------- - 145.0/149.9 MB 3.6 MB/s eta 0:00:02\n",
      "   -------------------------------------- - 145.5/149.9 MB 3.5 MB/s eta 0:00:02\n",
      "   -------------------------------------- - 146.0/149.9 MB 3.5 MB/s eta 0:00:02\n",
      "   ---------------------------------------  146.8/149.9 MB 3.5 MB/s eta 0:00:01\n",
      "   ---------------------------------------  147.3/149.9 MB 3.5 MB/s eta 0:00:01\n",
      "   ---------------------------------------  148.1/149.9 MB 3.5 MB/s eta 0:00:01\n",
      "   ---------------------------------------  148.9/149.9 MB 3.5 MB/s eta 0:00:01\n",
      "   ---------------------------------------  149.7/149.9 MB 3.5 MB/s eta 0:00:01\n",
      "   ---------------------------------------- 149.9/149.9 MB 3.5 MB/s eta 0:00:00\n",
      "Using cached lightgbm-4.6.0-py3-none-win_amd64.whl (1.5 MB)\n",
      "Installing collected packages: xgboost, lightgbm\n",
      "\n",
      "   ---------------------------------------- 0/2 [xgboost]\n",
      "   ---------------------------------------- 0/2 [xgboost]\n",
      "   ---------------------------------------- 0/2 [xgboost]\n",
      "   ---------------------------------------- 0/2 [xgboost]\n",
      "   ---------------------------------------- 0/2 [xgboost]\n",
      "   ---------------------------------------- 0/2 [xgboost]\n",
      "   ---------------------------------------- 0/2 [xgboost]\n",
      "   ---------------------------------------- 0/2 [xgboost]\n",
      "   ---------------------------------------- 0/2 [xgboost]\n",
      "   ---------------------------------------- 0/2 [xgboost]\n",
      "   ---------------------------------------- 0/2 [xgboost]\n",
      "   ---------------------------------------- 0/2 [xgboost]\n",
      "   ---------------------------------------- 2/2 [lightgbm]\n",
      "\n",
      "Successfully installed lightgbm-4.6.0 xgboost-3.0.3\n"
     ]
    }
   ],
   "source": [
    "!pip install xgboost lightgbm"
   ]
  },
  {
   "cell_type": "code",
   "execution_count": 6,
   "id": "546bd4f1",
   "metadata": {},
   "outputs": [],
   "source": [
    "import pandas as pd\n",
    "import numpy as np\n",
    "import matplotlib.pyplot as plt\n",
    "import seaborn as sns"
   ]
  },
  {
   "cell_type": "code",
   "execution_count": 7,
   "id": "85df9b2c",
   "metadata": {},
   "outputs": [],
   "source": [
    "dataset = pd.read_csv(r'C:\\Users\\DELL\\Desktop\\Flight Ticket Prediction Project\\dataset\\airlines_flights_data.csv')"
   ]
  },
  {
   "cell_type": "code",
   "execution_count": 8,
   "id": "28dbd56e",
   "metadata": {},
   "outputs": [
    {
     "data": {
      "text/html": [
       "<div>\n",
       "<style scoped>\n",
       "    .dataframe tbody tr th:only-of-type {\n",
       "        vertical-align: middle;\n",
       "    }\n",
       "\n",
       "    .dataframe tbody tr th {\n",
       "        vertical-align: top;\n",
       "    }\n",
       "\n",
       "    .dataframe thead th {\n",
       "        text-align: right;\n",
       "    }\n",
       "</style>\n",
       "<table border=\"1\" class=\"dataframe\">\n",
       "  <thead>\n",
       "    <tr style=\"text-align: right;\">\n",
       "      <th></th>\n",
       "      <th>index</th>\n",
       "      <th>airline</th>\n",
       "      <th>flight</th>\n",
       "      <th>source_city</th>\n",
       "      <th>departure_time</th>\n",
       "      <th>stops</th>\n",
       "      <th>arrival_time</th>\n",
       "      <th>destination_city</th>\n",
       "      <th>class</th>\n",
       "      <th>duration</th>\n",
       "      <th>days_left</th>\n",
       "      <th>price</th>\n",
       "    </tr>\n",
       "  </thead>\n",
       "  <tbody>\n",
       "    <tr>\n",
       "      <th>0</th>\n",
       "      <td>0</td>\n",
       "      <td>SpiceJet</td>\n",
       "      <td>SG-8709</td>\n",
       "      <td>Delhi</td>\n",
       "      <td>Evening</td>\n",
       "      <td>zero</td>\n",
       "      <td>Night</td>\n",
       "      <td>Mumbai</td>\n",
       "      <td>Economy</td>\n",
       "      <td>2.17</td>\n",
       "      <td>1</td>\n",
       "      <td>5953</td>\n",
       "    </tr>\n",
       "    <tr>\n",
       "      <th>1</th>\n",
       "      <td>1</td>\n",
       "      <td>SpiceJet</td>\n",
       "      <td>SG-8157</td>\n",
       "      <td>Delhi</td>\n",
       "      <td>Early_Morning</td>\n",
       "      <td>zero</td>\n",
       "      <td>Morning</td>\n",
       "      <td>Mumbai</td>\n",
       "      <td>Economy</td>\n",
       "      <td>2.33</td>\n",
       "      <td>1</td>\n",
       "      <td>5953</td>\n",
       "    </tr>\n",
       "    <tr>\n",
       "      <th>2</th>\n",
       "      <td>2</td>\n",
       "      <td>AirAsia</td>\n",
       "      <td>I5-764</td>\n",
       "      <td>Delhi</td>\n",
       "      <td>Early_Morning</td>\n",
       "      <td>zero</td>\n",
       "      <td>Early_Morning</td>\n",
       "      <td>Mumbai</td>\n",
       "      <td>Economy</td>\n",
       "      <td>2.17</td>\n",
       "      <td>1</td>\n",
       "      <td>5956</td>\n",
       "    </tr>\n",
       "    <tr>\n",
       "      <th>3</th>\n",
       "      <td>3</td>\n",
       "      <td>Vistara</td>\n",
       "      <td>UK-995</td>\n",
       "      <td>Delhi</td>\n",
       "      <td>Morning</td>\n",
       "      <td>zero</td>\n",
       "      <td>Afternoon</td>\n",
       "      <td>Mumbai</td>\n",
       "      <td>Economy</td>\n",
       "      <td>2.25</td>\n",
       "      <td>1</td>\n",
       "      <td>5955</td>\n",
       "    </tr>\n",
       "    <tr>\n",
       "      <th>4</th>\n",
       "      <td>4</td>\n",
       "      <td>Vistara</td>\n",
       "      <td>UK-963</td>\n",
       "      <td>Delhi</td>\n",
       "      <td>Morning</td>\n",
       "      <td>zero</td>\n",
       "      <td>Morning</td>\n",
       "      <td>Mumbai</td>\n",
       "      <td>Economy</td>\n",
       "      <td>2.33</td>\n",
       "      <td>1</td>\n",
       "      <td>5955</td>\n",
       "    </tr>\n",
       "    <tr>\n",
       "      <th>...</th>\n",
       "      <td>...</td>\n",
       "      <td>...</td>\n",
       "      <td>...</td>\n",
       "      <td>...</td>\n",
       "      <td>...</td>\n",
       "      <td>...</td>\n",
       "      <td>...</td>\n",
       "      <td>...</td>\n",
       "      <td>...</td>\n",
       "      <td>...</td>\n",
       "      <td>...</td>\n",
       "      <td>...</td>\n",
       "    </tr>\n",
       "    <tr>\n",
       "      <th>300148</th>\n",
       "      <td>300148</td>\n",
       "      <td>Vistara</td>\n",
       "      <td>UK-822</td>\n",
       "      <td>Chennai</td>\n",
       "      <td>Morning</td>\n",
       "      <td>one</td>\n",
       "      <td>Evening</td>\n",
       "      <td>Hyderabad</td>\n",
       "      <td>Business</td>\n",
       "      <td>10.08</td>\n",
       "      <td>49</td>\n",
       "      <td>69265</td>\n",
       "    </tr>\n",
       "    <tr>\n",
       "      <th>300149</th>\n",
       "      <td>300149</td>\n",
       "      <td>Vistara</td>\n",
       "      <td>UK-826</td>\n",
       "      <td>Chennai</td>\n",
       "      <td>Afternoon</td>\n",
       "      <td>one</td>\n",
       "      <td>Night</td>\n",
       "      <td>Hyderabad</td>\n",
       "      <td>Business</td>\n",
       "      <td>10.42</td>\n",
       "      <td>49</td>\n",
       "      <td>77105</td>\n",
       "    </tr>\n",
       "    <tr>\n",
       "      <th>300150</th>\n",
       "      <td>300150</td>\n",
       "      <td>Vistara</td>\n",
       "      <td>UK-832</td>\n",
       "      <td>Chennai</td>\n",
       "      <td>Early_Morning</td>\n",
       "      <td>one</td>\n",
       "      <td>Night</td>\n",
       "      <td>Hyderabad</td>\n",
       "      <td>Business</td>\n",
       "      <td>13.83</td>\n",
       "      <td>49</td>\n",
       "      <td>79099</td>\n",
       "    </tr>\n",
       "    <tr>\n",
       "      <th>300151</th>\n",
       "      <td>300151</td>\n",
       "      <td>Vistara</td>\n",
       "      <td>UK-828</td>\n",
       "      <td>Chennai</td>\n",
       "      <td>Early_Morning</td>\n",
       "      <td>one</td>\n",
       "      <td>Evening</td>\n",
       "      <td>Hyderabad</td>\n",
       "      <td>Business</td>\n",
       "      <td>10.00</td>\n",
       "      <td>49</td>\n",
       "      <td>81585</td>\n",
       "    </tr>\n",
       "    <tr>\n",
       "      <th>300152</th>\n",
       "      <td>300152</td>\n",
       "      <td>Vistara</td>\n",
       "      <td>UK-822</td>\n",
       "      <td>Chennai</td>\n",
       "      <td>Morning</td>\n",
       "      <td>one</td>\n",
       "      <td>Evening</td>\n",
       "      <td>Hyderabad</td>\n",
       "      <td>Business</td>\n",
       "      <td>10.08</td>\n",
       "      <td>49</td>\n",
       "      <td>81585</td>\n",
       "    </tr>\n",
       "  </tbody>\n",
       "</table>\n",
       "<p>300153 rows × 12 columns</p>\n",
       "</div>"
      ],
      "text/plain": [
       "         index   airline   flight source_city departure_time stops  \\\n",
       "0            0  SpiceJet  SG-8709       Delhi        Evening  zero   \n",
       "1            1  SpiceJet  SG-8157       Delhi  Early_Morning  zero   \n",
       "2            2   AirAsia   I5-764       Delhi  Early_Morning  zero   \n",
       "3            3   Vistara   UK-995       Delhi        Morning  zero   \n",
       "4            4   Vistara   UK-963       Delhi        Morning  zero   \n",
       "...        ...       ...      ...         ...            ...   ...   \n",
       "300148  300148   Vistara   UK-822     Chennai        Morning   one   \n",
       "300149  300149   Vistara   UK-826     Chennai      Afternoon   one   \n",
       "300150  300150   Vistara   UK-832     Chennai  Early_Morning   one   \n",
       "300151  300151   Vistara   UK-828     Chennai  Early_Morning   one   \n",
       "300152  300152   Vistara   UK-822     Chennai        Morning   one   \n",
       "\n",
       "         arrival_time destination_city     class  duration  days_left  price  \n",
       "0               Night           Mumbai   Economy      2.17          1   5953  \n",
       "1             Morning           Mumbai   Economy      2.33          1   5953  \n",
       "2       Early_Morning           Mumbai   Economy      2.17          1   5956  \n",
       "3           Afternoon           Mumbai   Economy      2.25          1   5955  \n",
       "4             Morning           Mumbai   Economy      2.33          1   5955  \n",
       "...               ...              ...       ...       ...        ...    ...  \n",
       "300148        Evening        Hyderabad  Business     10.08         49  69265  \n",
       "300149          Night        Hyderabad  Business     10.42         49  77105  \n",
       "300150          Night        Hyderabad  Business     13.83         49  79099  \n",
       "300151        Evening        Hyderabad  Business     10.00         49  81585  \n",
       "300152        Evening        Hyderabad  Business     10.08         49  81585  \n",
       "\n",
       "[300153 rows x 12 columns]"
      ]
     },
     "execution_count": 8,
     "metadata": {},
     "output_type": "execute_result"
    }
   ],
   "source": [
    "dataset"
   ]
  },
  {
   "cell_type": "code",
   "execution_count": 24,
   "id": "d1b8e200",
   "metadata": {},
   "outputs": [
    {
     "data": {
      "text/plain": [
       "Index(['airline', 'flight', 'source_city', 'departure_time', 'stops',\n",
       "       'arrival_time', 'destination_city', 'class', 'duration', 'days_left',\n",
       "       'price'],\n",
       "      dtype='object')"
      ]
     },
     "execution_count": 24,
     "metadata": {},
     "output_type": "execute_result"
    }
   ],
   "source": [
    "dataset.columns"
   ]
  },
  {
   "cell_type": "code",
   "execution_count": 25,
   "id": "28dfbac7",
   "metadata": {},
   "outputs": [
    {
     "data": {
      "text/plain": [
       "(300153, 11)"
      ]
     },
     "execution_count": 25,
     "metadata": {},
     "output_type": "execute_result"
    }
   ],
   "source": [
    "dataset.shape"
   ]
  },
  {
   "cell_type": "code",
   "execution_count": 9,
   "id": "e820c1b0",
   "metadata": {},
   "outputs": [
    {
     "name": "stdout",
     "output_type": "stream",
     "text": [
      "<class 'pandas.core.frame.DataFrame'>\n",
      "RangeIndex: 300153 entries, 0 to 300152\n",
      "Data columns (total 12 columns):\n",
      " #   Column            Non-Null Count   Dtype  \n",
      "---  ------            --------------   -----  \n",
      " 0   index             300153 non-null  int64  \n",
      " 1   airline           300153 non-null  object \n",
      " 2   flight            300153 non-null  object \n",
      " 3   source_city       300153 non-null  object \n",
      " 4   departure_time    300153 non-null  object \n",
      " 5   stops             300153 non-null  object \n",
      " 6   arrival_time      300153 non-null  object \n",
      " 7   destination_city  300153 non-null  object \n",
      " 8   class             300153 non-null  object \n",
      " 9   duration          300153 non-null  float64\n",
      " 10  days_left         300153 non-null  int64  \n",
      " 11  price             300153 non-null  int64  \n",
      "dtypes: float64(1), int64(3), object(8)\n",
      "memory usage: 27.5+ MB\n"
     ]
    }
   ],
   "source": [
    "dataset.info()"
   ]
  },
  {
   "cell_type": "code",
   "execution_count": 10,
   "id": "5256a8d3",
   "metadata": {},
   "outputs": [
    {
     "data": {
      "text/plain": [
       "index               0\n",
       "airline             0\n",
       "flight              0\n",
       "source_city         0\n",
       "departure_time      0\n",
       "stops               0\n",
       "arrival_time        0\n",
       "destination_city    0\n",
       "class               0\n",
       "duration            0\n",
       "days_left           0\n",
       "price               0\n",
       "dtype: int64"
      ]
     },
     "execution_count": 10,
     "metadata": {},
     "output_type": "execute_result"
    }
   ],
   "source": [
    "dataset.isnull().sum()"
   ]
  },
  {
   "cell_type": "code",
   "execution_count": 11,
   "id": "2347d81e",
   "metadata": {},
   "outputs": [
    {
     "data": {
      "text/html": [
       "<div>\n",
       "<style scoped>\n",
       "    .dataframe tbody tr th:only-of-type {\n",
       "        vertical-align: middle;\n",
       "    }\n",
       "\n",
       "    .dataframe tbody tr th {\n",
       "        vertical-align: top;\n",
       "    }\n",
       "\n",
       "    .dataframe thead th {\n",
       "        text-align: right;\n",
       "    }\n",
       "</style>\n",
       "<table border=\"1\" class=\"dataframe\">\n",
       "  <thead>\n",
       "    <tr style=\"text-align: right;\">\n",
       "      <th></th>\n",
       "      <th>index</th>\n",
       "      <th>duration</th>\n",
       "      <th>days_left</th>\n",
       "      <th>price</th>\n",
       "    </tr>\n",
       "  </thead>\n",
       "  <tbody>\n",
       "    <tr>\n",
       "      <th>count</th>\n",
       "      <td>300153.000000</td>\n",
       "      <td>300153.000000</td>\n",
       "      <td>300153.000000</td>\n",
       "      <td>300153.000000</td>\n",
       "    </tr>\n",
       "    <tr>\n",
       "      <th>mean</th>\n",
       "      <td>150076.000000</td>\n",
       "      <td>12.221021</td>\n",
       "      <td>26.004751</td>\n",
       "      <td>20889.660523</td>\n",
       "    </tr>\n",
       "    <tr>\n",
       "      <th>std</th>\n",
       "      <td>86646.852011</td>\n",
       "      <td>7.191997</td>\n",
       "      <td>13.561004</td>\n",
       "      <td>22697.767366</td>\n",
       "    </tr>\n",
       "    <tr>\n",
       "      <th>min</th>\n",
       "      <td>0.000000</td>\n",
       "      <td>0.830000</td>\n",
       "      <td>1.000000</td>\n",
       "      <td>1105.000000</td>\n",
       "    </tr>\n",
       "    <tr>\n",
       "      <th>25%</th>\n",
       "      <td>75038.000000</td>\n",
       "      <td>6.830000</td>\n",
       "      <td>15.000000</td>\n",
       "      <td>4783.000000</td>\n",
       "    </tr>\n",
       "    <tr>\n",
       "      <th>50%</th>\n",
       "      <td>150076.000000</td>\n",
       "      <td>11.250000</td>\n",
       "      <td>26.000000</td>\n",
       "      <td>7425.000000</td>\n",
       "    </tr>\n",
       "    <tr>\n",
       "      <th>75%</th>\n",
       "      <td>225114.000000</td>\n",
       "      <td>16.170000</td>\n",
       "      <td>38.000000</td>\n",
       "      <td>42521.000000</td>\n",
       "    </tr>\n",
       "    <tr>\n",
       "      <th>max</th>\n",
       "      <td>300152.000000</td>\n",
       "      <td>49.830000</td>\n",
       "      <td>49.000000</td>\n",
       "      <td>123071.000000</td>\n",
       "    </tr>\n",
       "  </tbody>\n",
       "</table>\n",
       "</div>"
      ],
      "text/plain": [
       "               index       duration      days_left          price\n",
       "count  300153.000000  300153.000000  300153.000000  300153.000000\n",
       "mean   150076.000000      12.221021      26.004751   20889.660523\n",
       "std     86646.852011       7.191997      13.561004   22697.767366\n",
       "min         0.000000       0.830000       1.000000    1105.000000\n",
       "25%     75038.000000       6.830000      15.000000    4783.000000\n",
       "50%    150076.000000      11.250000      26.000000    7425.000000\n",
       "75%    225114.000000      16.170000      38.000000   42521.000000\n",
       "max    300152.000000      49.830000      49.000000  123071.000000"
      ]
     },
     "execution_count": 11,
     "metadata": {},
     "output_type": "execute_result"
    }
   ],
   "source": [
    "dataset.describe()"
   ]
  },
  {
   "cell_type": "code",
   "execution_count": 13,
   "id": "817444e9",
   "metadata": {},
   "outputs": [],
   "source": [
    "dataset.drop(['index'], inplace=True, axis=1)"
   ]
  },
  {
   "cell_type": "code",
   "execution_count": 14,
   "id": "7ed3f763",
   "metadata": {},
   "outputs": [
    {
     "data": {
      "text/html": [
       "<div>\n",
       "<style scoped>\n",
       "    .dataframe tbody tr th:only-of-type {\n",
       "        vertical-align: middle;\n",
       "    }\n",
       "\n",
       "    .dataframe tbody tr th {\n",
       "        vertical-align: top;\n",
       "    }\n",
       "\n",
       "    .dataframe thead th {\n",
       "        text-align: right;\n",
       "    }\n",
       "</style>\n",
       "<table border=\"1\" class=\"dataframe\">\n",
       "  <thead>\n",
       "    <tr style=\"text-align: right;\">\n",
       "      <th></th>\n",
       "      <th>airline</th>\n",
       "      <th>flight</th>\n",
       "      <th>source_city</th>\n",
       "      <th>departure_time</th>\n",
       "      <th>stops</th>\n",
       "      <th>arrival_time</th>\n",
       "      <th>destination_city</th>\n",
       "      <th>class</th>\n",
       "      <th>duration</th>\n",
       "      <th>days_left</th>\n",
       "      <th>price</th>\n",
       "    </tr>\n",
       "  </thead>\n",
       "  <tbody>\n",
       "    <tr>\n",
       "      <th>0</th>\n",
       "      <td>SpiceJet</td>\n",
       "      <td>SG-8709</td>\n",
       "      <td>Delhi</td>\n",
       "      <td>Evening</td>\n",
       "      <td>zero</td>\n",
       "      <td>Night</td>\n",
       "      <td>Mumbai</td>\n",
       "      <td>Economy</td>\n",
       "      <td>2.17</td>\n",
       "      <td>1</td>\n",
       "      <td>5953</td>\n",
       "    </tr>\n",
       "    <tr>\n",
       "      <th>1</th>\n",
       "      <td>SpiceJet</td>\n",
       "      <td>SG-8157</td>\n",
       "      <td>Delhi</td>\n",
       "      <td>Early_Morning</td>\n",
       "      <td>zero</td>\n",
       "      <td>Morning</td>\n",
       "      <td>Mumbai</td>\n",
       "      <td>Economy</td>\n",
       "      <td>2.33</td>\n",
       "      <td>1</td>\n",
       "      <td>5953</td>\n",
       "    </tr>\n",
       "    <tr>\n",
       "      <th>2</th>\n",
       "      <td>AirAsia</td>\n",
       "      <td>I5-764</td>\n",
       "      <td>Delhi</td>\n",
       "      <td>Early_Morning</td>\n",
       "      <td>zero</td>\n",
       "      <td>Early_Morning</td>\n",
       "      <td>Mumbai</td>\n",
       "      <td>Economy</td>\n",
       "      <td>2.17</td>\n",
       "      <td>1</td>\n",
       "      <td>5956</td>\n",
       "    </tr>\n",
       "    <tr>\n",
       "      <th>3</th>\n",
       "      <td>Vistara</td>\n",
       "      <td>UK-995</td>\n",
       "      <td>Delhi</td>\n",
       "      <td>Morning</td>\n",
       "      <td>zero</td>\n",
       "      <td>Afternoon</td>\n",
       "      <td>Mumbai</td>\n",
       "      <td>Economy</td>\n",
       "      <td>2.25</td>\n",
       "      <td>1</td>\n",
       "      <td>5955</td>\n",
       "    </tr>\n",
       "    <tr>\n",
       "      <th>4</th>\n",
       "      <td>Vistara</td>\n",
       "      <td>UK-963</td>\n",
       "      <td>Delhi</td>\n",
       "      <td>Morning</td>\n",
       "      <td>zero</td>\n",
       "      <td>Morning</td>\n",
       "      <td>Mumbai</td>\n",
       "      <td>Economy</td>\n",
       "      <td>2.33</td>\n",
       "      <td>1</td>\n",
       "      <td>5955</td>\n",
       "    </tr>\n",
       "  </tbody>\n",
       "</table>\n",
       "</div>"
      ],
      "text/plain": [
       "    airline   flight source_city departure_time stops   arrival_time  \\\n",
       "0  SpiceJet  SG-8709       Delhi        Evening  zero          Night   \n",
       "1  SpiceJet  SG-8157       Delhi  Early_Morning  zero        Morning   \n",
       "2   AirAsia   I5-764       Delhi  Early_Morning  zero  Early_Morning   \n",
       "3   Vistara   UK-995       Delhi        Morning  zero      Afternoon   \n",
       "4   Vistara   UK-963       Delhi        Morning  zero        Morning   \n",
       "\n",
       "  destination_city    class  duration  days_left  price  \n",
       "0           Mumbai  Economy      2.17          1   5953  \n",
       "1           Mumbai  Economy      2.33          1   5953  \n",
       "2           Mumbai  Economy      2.17          1   5956  \n",
       "3           Mumbai  Economy      2.25          1   5955  \n",
       "4           Mumbai  Economy      2.33          1   5955  "
      ]
     },
     "execution_count": 14,
     "metadata": {},
     "output_type": "execute_result"
    }
   ],
   "source": [
    "dataset.head()"
   ]
  },
  {
   "cell_type": "code",
   "execution_count": 15,
   "id": "d0be41d7",
   "metadata": {},
   "outputs": [
    {
     "data": {
      "text/plain": [
       "airline\n",
       "Vistara      127859\n",
       "Air_India     80892\n",
       "Indigo        43120\n",
       "GO_FIRST      23173\n",
       "AirAsia       16098\n",
       "SpiceJet       9011\n",
       "Name: count, dtype: int64"
      ]
     },
     "execution_count": 15,
     "metadata": {},
     "output_type": "execute_result"
    }
   ],
   "source": [
    "dataset['airline'].value_counts()"
   ]
  },
  {
   "cell_type": "code",
   "execution_count": 17,
   "id": "e5f3e192",
   "metadata": {},
   "outputs": [
    {
     "data": {
      "image/png": "[encoded data removed]",
      "text/plain": [
       "<Figure size 1000x500 with 1 Axes>"
      ]
     },
     "metadata": {},
     "output_type": "display_data"
    }
   ],
   "source": [
    "dataset['airline'].value_counts().plot(kind='bar', figsize=(10, 5), color='skyblue')\n",
    "plt.title('Number of Flights by Airline')\n",
    "plt.xlabel('Airline')\n",
    "plt.ylabel('Number of Flights')\n",
    "plt.xticks(rotation=45)\n",
    "plt.show()"
   ]
  },
  {
   "cell_type": "code",
   "execution_count": 18,
   "id": "21bccf2b",
   "metadata": {},
   "outputs": [
    {
     "data": {
      "text/plain": [
       "flight\n",
       "UK-706     3235\n",
       "UK-772     2741\n",
       "UK-720     2650\n",
       "UK-836     2542\n",
       "UK-822     2468\n",
       "           ... \n",
       "6E-2914       1\n",
       "G8-107        1\n",
       "SG-9974       1\n",
       "6E-865        1\n",
       "SG-8339       1\n",
       "Name: count, Length: 1561, dtype: int64"
      ]
     },
     "execution_count": 18,
     "metadata": {},
     "output_type": "execute_result"
    }
   ],
   "source": [
    "dataset['flight'].value_counts()"
   ]
  },
  {
   "cell_type": "code",
   "execution_count": 19,
   "id": "fc9db736",
   "metadata": {},
   "outputs": [
    {
     "data": {
      "text/plain": [
       "array(['SG-8709', 'SG-8157', 'I5-764', ..., '6E-7127', '6E-7259',\n",
       "       'AI-433'], shape=(1561,), dtype=object)"
      ]
     },
     "execution_count": 19,
     "metadata": {},
     "output_type": "execute_result"
    }
   ],
   "source": [
    "dataset['flight'].unique()"
   ]
  },
  {
   "cell_type": "code",
   "execution_count": 26,
   "id": "b9e53ea1",
   "metadata": {},
   "outputs": [
    {
     "data": {
      "text/plain": [
       "source_city\n",
       "Delhi        61343\n",
       "Mumbai       60896\n",
       "Bangalore    52061\n",
       "Kolkata      46347\n",
       "Hyderabad    40806\n",
       "Chennai      38700\n",
       "Name: count, dtype: int64"
      ]
     },
     "execution_count": 26,
     "metadata": {},
     "output_type": "execute_result"
    }
   ],
   "source": [
    "dataset['source_city'].value_counts()"
   ]
  },
  {
   "cell_type": "code",
   "execution_count": 27,
   "id": "e83e2f62",
   "metadata": {},
   "outputs": [
    {
     "data": {
      "text/plain": [
       "array(['Delhi', 'Mumbai', 'Bangalore', 'Kolkata', 'Hyderabad', 'Chennai'],\n",
       "      dtype=object)"
      ]
     },
     "execution_count": 27,
     "metadata": {},
     "output_type": "execute_result"
    }
   ],
   "source": [
    "dataset['source_city'].unique()"
   ]
  },
  {
   "cell_type": "code",
   "execution_count": 28,
   "id": "717c5e37",
   "metadata": {},
   "outputs": [
    {
     "data": {
      "image/png": "[encoded data removed]",
      "text/plain": [
       "<Figure size 1000x500 with 1 Axes>"
      ]
     },
     "metadata": {},
     "output_type": "display_data"
    }
   ],
   "source": [
    "dataset['source_city'].value_counts().plot(kind='bar', figsize=(10, 5), color='lightcoral')\n",
    "plt.title('Number of Flights by Source City')\n",
    "plt.xlabel('Source City')\n",
    "plt.ylabel('Number of Flights')\n",
    "plt.xticks(rotation=45)\n",
    "plt.show()"
   ]
  },
  {
   "cell_type": "code",
   "execution_count": 29,
   "id": "127f934e",
   "metadata": {},
   "outputs": [
    {
     "data": {
      "text/plain": [
       "Index(['airline', 'flight', 'source_city', 'departure_time', 'stops',\n",
       "       'arrival_time', 'destination_city', 'class', 'duration', 'days_left',\n",
       "       'price'],\n",
       "      dtype='object')"
      ]
     },
     "execution_count": 29,
     "metadata": {},
     "output_type": "execute_result"
    }
   ],
   "source": [
    "dataset.columns"
   ]
  },
  {
   "cell_type": "code",
   "execution_count": 30,
   "id": "952b08c8",
   "metadata": {},
   "outputs": [
    {
     "data": {
      "text/plain": [
       "departure_time\n",
       "Morning          71146\n",
       "Early_Morning    66790\n",
       "Evening          65102\n",
       "Night            48015\n",
       "Afternoon        47794\n",
       "Late_Night        1306\n",
       "Name: count, dtype: int64"
      ]
     },
     "execution_count": 30,
     "metadata": {},
     "output_type": "execute_result"
    }
   ],
   "source": [
    "dataset['departure_time'].value_counts()"
   ]
  },
  {
   "cell_type": "code",
   "execution_count": 31,
   "id": "fb8f4baf",
   "metadata": {},
   "outputs": [
    {
     "data": {
      "image/png": "[encoded data removed]",
      "text/plain": [
       "<Figure size 1000x500 with 1 Axes>"
      ]
     },
     "metadata": {},
     "output_type": "display_data"
    }
   ],
   "source": [
    "dataset['departure_time'].value_counts().plot(kind='bar', figsize=(10, 5), color='lightblue')\n",
    "plt.title('Number of Flights by Departure Time')\n",
    "plt.xlabel('Departure Time')\n",
    "plt.ylabel('Number of Flights')\n",
    "plt.xticks(rotation=45)\n",
    "plt.show()"
   ]
  },
  {
   "cell_type": "code",
   "execution_count": 32,
   "id": "36222f3d",
   "metadata": {},
   "outputs": [
    {
     "data": {
      "text/html": [
       "<div>\n",
       "<style scoped>\n",
       "    .dataframe tbody tr th:only-of-type {\n",
       "        vertical-align: middle;\n",
       "    }\n",
       "\n",
       "    .dataframe tbody tr th {\n",
       "        vertical-align: top;\n",
       "    }\n",
       "\n",
       "    .dataframe thead th {\n",
       "        text-align: right;\n",
       "    }\n",
       "</style>\n",
       "<table border=\"1\" class=\"dataframe\">\n",
       "  <thead>\n",
       "    <tr style=\"text-align: right;\">\n",
       "      <th></th>\n",
       "      <th>airline</th>\n",
       "      <th>flight</th>\n",
       "      <th>source_city</th>\n",
       "      <th>departure_time</th>\n",
       "      <th>stops</th>\n",
       "      <th>arrival_time</th>\n",
       "      <th>destination_city</th>\n",
       "      <th>class</th>\n",
       "      <th>duration</th>\n",
       "      <th>days_left</th>\n",
       "      <th>price</th>\n",
       "    </tr>\n",
       "  </thead>\n",
       "  <tbody>\n",
       "    <tr>\n",
       "      <th>0</th>\n",
       "      <td>SpiceJet</td>\n",
       "      <td>SG-8709</td>\n",
       "      <td>Delhi</td>\n",
       "      <td>Evening</td>\n",
       "      <td>zero</td>\n",
       "      <td>Night</td>\n",
       "      <td>Mumbai</td>\n",
       "      <td>Economy</td>\n",
       "      <td>2.17</td>\n",
       "      <td>1</td>\n",
       "      <td>5953</td>\n",
       "    </tr>\n",
       "    <tr>\n",
       "      <th>1</th>\n",
       "      <td>SpiceJet</td>\n",
       "      <td>SG-8157</td>\n",
       "      <td>Delhi</td>\n",
       "      <td>Early_Morning</td>\n",
       "      <td>zero</td>\n",
       "      <td>Morning</td>\n",
       "      <td>Mumbai</td>\n",
       "      <td>Economy</td>\n",
       "      <td>2.33</td>\n",
       "      <td>1</td>\n",
       "      <td>5953</td>\n",
       "    </tr>\n",
       "    <tr>\n",
       "      <th>2</th>\n",
       "      <td>AirAsia</td>\n",
       "      <td>I5-764</td>\n",
       "      <td>Delhi</td>\n",
       "      <td>Early_Morning</td>\n",
       "      <td>zero</td>\n",
       "      <td>Early_Morning</td>\n",
       "      <td>Mumbai</td>\n",
       "      <td>Economy</td>\n",
       "      <td>2.17</td>\n",
       "      <td>1</td>\n",
       "      <td>5956</td>\n",
       "    </tr>\n",
       "    <tr>\n",
       "      <th>3</th>\n",
       "      <td>Vistara</td>\n",
       "      <td>UK-995</td>\n",
       "      <td>Delhi</td>\n",
       "      <td>Morning</td>\n",
       "      <td>zero</td>\n",
       "      <td>Afternoon</td>\n",
       "      <td>Mumbai</td>\n",
       "      <td>Economy</td>\n",
       "      <td>2.25</td>\n",
       "      <td>1</td>\n",
       "      <td>5955</td>\n",
       "    </tr>\n",
       "    <tr>\n",
       "      <th>4</th>\n",
       "      <td>Vistara</td>\n",
       "      <td>UK-963</td>\n",
       "      <td>Delhi</td>\n",
       "      <td>Morning</td>\n",
       "      <td>zero</td>\n",
       "      <td>Morning</td>\n",
       "      <td>Mumbai</td>\n",
       "      <td>Economy</td>\n",
       "      <td>2.33</td>\n",
       "      <td>1</td>\n",
       "      <td>5955</td>\n",
       "    </tr>\n",
       "  </tbody>\n",
       "</table>\n",
       "</div>"
      ],
      "text/plain": [
       "    airline   flight source_city departure_time stops   arrival_time  \\\n",
       "0  SpiceJet  SG-8709       Delhi        Evening  zero          Night   \n",
       "1  SpiceJet  SG-8157       Delhi  Early_Morning  zero        Morning   \n",
       "2   AirAsia   I5-764       Delhi  Early_Morning  zero  Early_Morning   \n",
       "3   Vistara   UK-995       Delhi        Morning  zero      Afternoon   \n",
       "4   Vistara   UK-963       Delhi        Morning  zero        Morning   \n",
       "\n",
       "  destination_city    class  duration  days_left  price  \n",
       "0           Mumbai  Economy      2.17          1   5953  \n",
       "1           Mumbai  Economy      2.33          1   5953  \n",
       "2           Mumbai  Economy      2.17          1   5956  \n",
       "3           Mumbai  Economy      2.25          1   5955  \n",
       "4           Mumbai  Economy      2.33          1   5955  "
      ]
     },
     "execution_count": 32,
     "metadata": {},
     "output_type": "execute_result"
    }
   ],
   "source": [
    "dataset.head()"
   ]
  },
  {
   "cell_type": "code",
   "execution_count": 33,
   "id": "659aeb78",
   "metadata": {},
   "outputs": [
    {
     "data": {
      "text/plain": [
       "stops\n",
       "one            250863\n",
       "zero            36004\n",
       "two_or_more     13286\n",
       "Name: count, dtype: int64"
      ]
     },
     "execution_count": 33,
     "metadata": {},
     "output_type": "execute_result"
    }
   ],
   "source": [
    "dataset['stops'].value_counts()"
   ]
  },
  {
   "cell_type": "code",
   "execution_count": 34,
   "id": "40cece02",
   "metadata": {},
   "outputs": [
    {
     "data": {
      "text/plain": [
       "Text(0.5, 0, 'Stops')"
      ]
     },
     "execution_count": 34,
     "metadata": {},
     "output_type": "execute_result"
    },
    {
     "data": {
      "image/png": "[encoded data removed]",
      "text/plain": [
       "<Figure size 1000x500 with 1 Axes>"
      ]
     },
     "metadata": {},
     "output_type": "display_data"
    }
   ],
   "source": [
    "dataset['stops'].value_counts().plot(kind='bar', figsize=(10, 5), color='lightgreen')\n",
    "plt.title('Number of Flights by Stops')\n",
    "plt.xlabel('Stops')"
   ]
  },
  {
   "cell_type": "code",
   "execution_count": 35,
   "id": "101e7dd7",
   "metadata": {},
   "outputs": [
    {
     "data": {
      "text/plain": [
       "arrival_time\n",
       "Night            91538\n",
       "Evening          78323\n",
       "Morning          62735\n",
       "Afternoon        38139\n",
       "Early_Morning    15417\n",
       "Late_Night       14001\n",
       "Name: count, dtype: int64"
      ]
     },
     "execution_count": 35,
     "metadata": {},
     "output_type": "execute_result"
    }
   ],
   "source": [
    "dataset['arrival_time'].value_counts()"
   ]
  },
  {
   "cell_type": "code",
   "execution_count": 37,
   "id": "db1f13a9",
   "metadata": {},
   "outputs": [
    {
     "data": {
      "image/png": "[encoded data removed]",
      "text/plain": [
       "<Figure size 1000x500 with 1 Axes>"
      ]
     },
     "metadata": {},
     "output_type": "display_data"
    }
   ],
   "source": [
    "dataset['arrival_time'].value_counts().plot(kind='bar', figsize=(10,5) , color='lightblue')\n",
    "plt.title('Number of Flights by Arrival Time')\n",
    "plt.xlabel('Arrival Time')\n",
    "plt.ylabel('Number of Flights')\n",
    "plt.xticks(rotation=45)\n",
    "plt.show()"
   ]
  },
  {
   "cell_type": "code",
   "execution_count": 38,
   "id": "ddd3b313",
   "metadata": {},
   "outputs": [
    {
     "data": {
      "text/plain": [
       "destination_city\n",
       "Mumbai       59097\n",
       "Delhi        57360\n",
       "Bangalore    51068\n",
       "Kolkata      49534\n",
       "Hyderabad    42726\n",
       "Chennai      40368\n",
       "Name: count, dtype: int64"
      ]
     },
     "execution_count": 38,
     "metadata": {},
     "output_type": "execute_result"
    }
   ],
   "source": [
    "dataset['destination_city'].value_counts()"
   ]
  },
  {
   "cell_type": "code",
   "execution_count": 39,
   "id": "9b1fba1e",
   "metadata": {},
   "outputs": [
    {
     "data": {
      "text/plain": [
       "Text(0.5, 0, 'Destination City')"
      ]
     },
     "execution_count": 39,
     "metadata": {},
     "output_type": "execute_result"
    },
    {
     "data": {
      "image/png": "[encoded data removed]",
      "text/plain": [
       "<Figure size 1000x500 with 1 Axes>"
      ]
     },
     "metadata": {},
     "output_type": "display_data"
    }
   ],
   "source": [
    "dataset['destination_city'].value_counts().plot(kind='bar', figsize=(10, 5), color='lightcoral')\n",
    "plt.title('Number of Flights by Destination City')\n",
    "plt.xlabel('Destination City')"
   ]
  },
  {
   "cell_type": "code",
   "execution_count": 40,
   "id": "596ce894",
   "metadata": {},
   "outputs": [
    {
     "data": {
      "text/plain": [
       "Index(['airline', 'flight', 'source_city', 'departure_time', 'stops',\n",
       "       'arrival_time', 'destination_city', 'class', 'duration', 'days_left',\n",
       "       'price'],\n",
       "      dtype='object')"
      ]
     },
     "execution_count": 40,
     "metadata": {},
     "output_type": "execute_result"
    }
   ],
   "source": [
    "dataset.columns"
   ]
  },
  {
   "cell_type": "code",
   "execution_count": 41,
   "id": "2f5a4fb7",
   "metadata": {},
   "outputs": [
    {
     "data": {
      "text/plain": [
       "class\n",
       "Economy     206666\n",
       "Business     93487\n",
       "Name: count, dtype: int64"
      ]
     },
     "execution_count": 41,
     "metadata": {},
     "output_type": "execute_result"
    }
   ],
   "source": [
    "dataset['class'].value_counts()"
   ]
  },
  {
   "cell_type": "code",
   "execution_count": 42,
   "id": "42fe4ee6",
   "metadata": {},
   "outputs": [
    {
     "data": {
      "image/png": "[encoded data removed]",
      "text/plain": [
       "<Figure size 1000x500 with 1 Axes>"
      ]
     },
     "metadata": {},
     "output_type": "display_data"
    }
   ],
   "source": [
    "dataset['class'].value_counts().plot(kind='bar', figsize=(10,5), color='lightgreen')\n",
    "plt.title('Number of Flights by Class')\n",
    "plt.xlabel('Class')\n",
    "plt.ylabel('Number of Flights')\n",
    "plt.xticks(rotation=45)\n",
    "plt.show()"
   ]
  },
  {
   "cell_type": "code",
   "execution_count": 43,
   "id": "03ca4f57",
   "metadata": {},
   "outputs": [
    {
     "data": {
      "text/plain": [
       "duration\n",
       "2.17     4242\n",
       "2.25     4036\n",
       "2.75     2879\n",
       "2.08     2755\n",
       "2.83     2323\n",
       "         ... \n",
       "47.08       1\n",
       "41.58       1\n",
       "37.17       1\n",
       "44.50       1\n",
       "41.50       1\n",
       "Name: count, Length: 476, dtype: int64"
      ]
     },
     "execution_count": 43,
     "metadata": {},
     "output_type": "execute_result"
    }
   ],
   "source": [
    "dataset['duration'].value_counts()"
   ]
  },
  {
   "cell_type": "code",
   "execution_count": 46,
   "id": "d2296c5f",
   "metadata": {},
   "outputs": [
    {
     "data": {
      "text/plain": [
       "days_left\n",
       "25    6633\n",
       "18    6602\n",
       "39    6593\n",
       "32    6585\n",
       "26    6573\n",
       "24    6542\n",
       "19    6537\n",
       "31    6534\n",
       "33    6532\n",
       "40    6531\n",
       "41    6525\n",
       "28    6522\n",
       "38    6512\n",
       "20    6502\n",
       "30    6501\n",
       "42    6497\n",
       "22    6494\n",
       "36    6490\n",
       "21    6479\n",
       "37    6476\n",
       "43    6472\n",
       "44    6436\n",
       "17    6419\n",
       "11    6417\n",
       "34    6412\n",
       "13    6404\n",
       "23    6401\n",
       "29    6397\n",
       "12    6381\n",
       "27    6360\n",
       "14    6349\n",
       "15    6340\n",
       "45    6314\n",
       "35    6291\n",
       "16    6272\n",
       "46    6160\n",
       "49    6154\n",
       "48    6078\n",
       "47    6069\n",
       "10    5822\n",
       "8     5767\n",
       "6     5740\n",
       "7     5703\n",
       "9     5665\n",
       "5     5392\n",
       "4     5077\n",
       "3     4248\n",
       "2     4026\n",
       "1     1927\n",
       "Name: count, dtype: int64"
      ]
     },
     "execution_count": 46,
     "metadata": {},
     "output_type": "execute_result"
    }
   ],
   "source": [
    "dataset['days_left'].value_counts()"
   ]
  },
  {
   "cell_type": "code",
   "execution_count": 47,
   "id": "43e5d643",
   "metadata": {},
   "outputs": [
    {
     "data": {
      "text/plain": [
       "array([ 1,  2,  3,  4,  5,  6,  7,  8,  9, 10, 11, 12, 13, 14, 15, 16, 17,\n",
       "       18, 19, 20, 21, 22, 23, 24, 25, 26, 27, 28, 29, 30, 31, 32, 33, 34,\n",
       "       35, 36, 37, 38, 39, 40, 41, 42, 43, 44, 45, 46, 47, 48, 49])"
      ]
     },
     "execution_count": 47,
     "metadata": {},
     "output_type": "execute_result"
    }
   ],
   "source": [
    "dataset['days_left'].unique()"
   ]
  },
  {
   "cell_type": "code",
   "execution_count": 48,
   "id": "9a800234",
   "metadata": {},
   "outputs": [
    {
     "name": "stdout",
     "output_type": "stream",
     "text": [
      "<class 'pandas.core.frame.DataFrame'>\n",
      "RangeIndex: 300153 entries, 0 to 300152\n",
      "Data columns (total 11 columns):\n",
      " #   Column            Non-Null Count   Dtype  \n",
      "---  ------            --------------   -----  \n",
      " 0   airline           300153 non-null  object \n",
      " 1   flight            300153 non-null  object \n",
      " 2   source_city       300153 non-null  object \n",
      " 3   departure_time    300153 non-null  object \n",
      " 4   stops             300153 non-null  object \n",
      " 5   arrival_time      300153 non-null  object \n",
      " 6   destination_city  300153 non-null  object \n",
      " 7   class             300153 non-null  object \n",
      " 8   duration          300153 non-null  float64\n",
      " 9   days_left         300153 non-null  int64  \n",
      " 10  price             300153 non-null  int64  \n",
      "dtypes: float64(1), int64(2), object(8)\n",
      "memory usage: 25.2+ MB\n"
     ]
    }
   ],
   "source": [
    "dataset.info()"
   ]
  },
  {
   "cell_type": "code",
   "execution_count": 53,
   "id": "ce6463fd",
   "metadata": {},
   "outputs": [],
   "source": [
    "dataset_without_flight_no = dataset.drop(['flight'], axis=1)\n",
    "# dropped flight column as it is not useful for analysis"
   ]
  },
  {
   "cell_type": "code",
   "execution_count": 52,
   "id": "fc71e654",
   "metadata": {},
   "outputs": [
    {
     "data": {
      "text/html": [
       "<div>\n",
       "<style scoped>\n",
       "    .dataframe tbody tr th:only-of-type {\n",
       "        vertical-align: middle;\n",
       "    }\n",
       "\n",
       "    .dataframe tbody tr th {\n",
       "        vertical-align: top;\n",
       "    }\n",
       "\n",
       "    .dataframe thead th {\n",
       "        text-align: right;\n",
       "    }\n",
       "</style>\n",
       "<table border=\"1\" class=\"dataframe\">\n",
       "  <thead>\n",
       "    <tr style=\"text-align: right;\">\n",
       "      <th></th>\n",
       "      <th>airline</th>\n",
       "      <th>source_city</th>\n",
       "      <th>departure_time</th>\n",
       "      <th>stops</th>\n",
       "      <th>arrival_time</th>\n",
       "      <th>destination_city</th>\n",
       "      <th>class</th>\n",
       "      <th>duration</th>\n",
       "      <th>days_left</th>\n",
       "      <th>price</th>\n",
       "    </tr>\n",
       "  </thead>\n",
       "  <tbody>\n",
       "    <tr>\n",
       "      <th>0</th>\n",
       "      <td>SpiceJet</td>\n",
       "      <td>Delhi</td>\n",
       "      <td>Evening</td>\n",
       "      <td>zero</td>\n",
       "      <td>Night</td>\n",
       "      <td>Mumbai</td>\n",
       "      <td>Economy</td>\n",
       "      <td>2.17</td>\n",
       "      <td>1</td>\n",
       "      <td>5953</td>\n",
       "    </tr>\n",
       "    <tr>\n",
       "      <th>1</th>\n",
       "      <td>SpiceJet</td>\n",
       "      <td>Delhi</td>\n",
       "      <td>Early_Morning</td>\n",
       "      <td>zero</td>\n",
       "      <td>Morning</td>\n",
       "      <td>Mumbai</td>\n",
       "      <td>Economy</td>\n",
       "      <td>2.33</td>\n",
       "      <td>1</td>\n",
       "      <td>5953</td>\n",
       "    </tr>\n",
       "    <tr>\n",
       "      <th>2</th>\n",
       "      <td>AirAsia</td>\n",
       "      <td>Delhi</td>\n",
       "      <td>Early_Morning</td>\n",
       "      <td>zero</td>\n",
       "      <td>Early_Morning</td>\n",
       "      <td>Mumbai</td>\n",
       "      <td>Economy</td>\n",
       "      <td>2.17</td>\n",
       "      <td>1</td>\n",
       "      <td>5956</td>\n",
       "    </tr>\n",
       "    <tr>\n",
       "      <th>3</th>\n",
       "      <td>Vistara</td>\n",
       "      <td>Delhi</td>\n",
       "      <td>Morning</td>\n",
       "      <td>zero</td>\n",
       "      <td>Afternoon</td>\n",
       "      <td>Mumbai</td>\n",
       "      <td>Economy</td>\n",
       "      <td>2.25</td>\n",
       "      <td>1</td>\n",
       "      <td>5955</td>\n",
       "    </tr>\n",
       "    <tr>\n",
       "      <th>4</th>\n",
       "      <td>Vistara</td>\n",
       "      <td>Delhi</td>\n",
       "      <td>Morning</td>\n",
       "      <td>zero</td>\n",
       "      <td>Morning</td>\n",
       "      <td>Mumbai</td>\n",
       "      <td>Economy</td>\n",
       "      <td>2.33</td>\n",
       "      <td>1</td>\n",
       "      <td>5955</td>\n",
       "    </tr>\n",
       "    <tr>\n",
       "      <th>...</th>\n",
       "      <td>...</td>\n",
       "      <td>...</td>\n",
       "      <td>...</td>\n",
       "      <td>...</td>\n",
       "      <td>...</td>\n",
       "      <td>...</td>\n",
       "      <td>...</td>\n",
       "      <td>...</td>\n",
       "      <td>...</td>\n",
       "      <td>...</td>\n",
       "    </tr>\n",
       "    <tr>\n",
       "      <th>300148</th>\n",
       "      <td>Vistara</td>\n",
       "      <td>Chennai</td>\n",
       "      <td>Morning</td>\n",
       "      <td>one</td>\n",
       "      <td>Evening</td>\n",
       "      <td>Hyderabad</td>\n",
       "      <td>Business</td>\n",
       "      <td>10.08</td>\n",
       "      <td>49</td>\n",
       "      <td>69265</td>\n",
       "    </tr>\n",
       "    <tr>\n",
       "      <th>300149</th>\n",
       "      <td>Vistara</td>\n",
       "      <td>Chennai</td>\n",
       "      <td>Afternoon</td>\n",
       "      <td>one</td>\n",
       "      <td>Night</td>\n",
       "      <td>Hyderabad</td>\n",
       "      <td>Business</td>\n",
       "      <td>10.42</td>\n",
       "      <td>49</td>\n",
       "      <td>77105</td>\n",
       "    </tr>\n",
       "    <tr>\n",
       "      <th>300150</th>\n",
       "      <td>Vistara</td>\n",
       "      <td>Chennai</td>\n",
       "      <td>Early_Morning</td>\n",
       "      <td>one</td>\n",
       "      <td>Night</td>\n",
       "      <td>Hyderabad</td>\n",
       "      <td>Business</td>\n",
       "      <td>13.83</td>\n",
       "      <td>49</td>\n",
       "      <td>79099</td>\n",
       "    </tr>\n",
       "    <tr>\n",
       "      <th>300151</th>\n",
       "      <td>Vistara</td>\n",
       "      <td>Chennai</td>\n",
       "      <td>Early_Morning</td>\n",
       "      <td>one</td>\n",
       "      <td>Evening</td>\n",
       "      <td>Hyderabad</td>\n",
       "      <td>Business</td>\n",
       "      <td>10.00</td>\n",
       "      <td>49</td>\n",
       "      <td>81585</td>\n",
       "    </tr>\n",
       "    <tr>\n",
       "      <th>300152</th>\n",
       "      <td>Vistara</td>\n",
       "      <td>Chennai</td>\n",
       "      <td>Morning</td>\n",
       "      <td>one</td>\n",
       "      <td>Evening</td>\n",
       "      <td>Hyderabad</td>\n",
       "      <td>Business</td>\n",
       "      <td>10.08</td>\n",
       "      <td>49</td>\n",
       "      <td>81585</td>\n",
       "    </tr>\n",
       "  </tbody>\n",
       "</table>\n",
       "<p>300153 rows × 10 columns</p>\n",
       "</div>"
      ],
      "text/plain": [
       "         airline source_city departure_time stops   arrival_time  \\\n",
       "0       SpiceJet       Delhi        Evening  zero          Night   \n",
       "1       SpiceJet       Delhi  Early_Morning  zero        Morning   \n",
       "2        AirAsia       Delhi  Early_Morning  zero  Early_Morning   \n",
       "3        Vistara       Delhi        Morning  zero      Afternoon   \n",
       "4        Vistara       Delhi        Morning  zero        Morning   \n",
       "...          ...         ...            ...   ...            ...   \n",
       "300148   Vistara     Chennai        Morning   one        Evening   \n",
       "300149   Vistara     Chennai      Afternoon   one          Night   \n",
       "300150   Vistara     Chennai  Early_Morning   one          Night   \n",
       "300151   Vistara     Chennai  Early_Morning   one        Evening   \n",
       "300152   Vistara     Chennai        Morning   one        Evening   \n",
       "\n",
       "       destination_city     class  duration  days_left  price  \n",
       "0                Mumbai   Economy      2.17          1   5953  \n",
       "1                Mumbai   Economy      2.33          1   5953  \n",
       "2                Mumbai   Economy      2.17          1   5956  \n",
       "3                Mumbai   Economy      2.25          1   5955  \n",
       "4                Mumbai   Economy      2.33          1   5955  \n",
       "...                 ...       ...       ...        ...    ...  \n",
       "300148        Hyderabad  Business     10.08         49  69265  \n",
       "300149        Hyderabad  Business     10.42         49  77105  \n",
       "300150        Hyderabad  Business     13.83         49  79099  \n",
       "300151        Hyderabad  Business     10.00         49  81585  \n",
       "300152        Hyderabad  Business     10.08         49  81585  \n",
       "\n",
       "[300153 rows x 10 columns]"
      ]
     },
     "execution_count": 52,
     "metadata": {},
     "output_type": "execute_result"
    }
   ],
   "source": [
    "dataset_without_flight_no"
   ]
  },
  {
   "cell_type": "code",
   "execution_count": 54,
   "id": "70ce9d93",
   "metadata": {},
   "outputs": [],
   "source": [
    "dataset_without_flight_no = dataset_without_flight_no.to_csv('dataset_without_flight_no.csv', index=False)"
   ]
  },
  {
   "cell_type": "code",
   "execution_count": null,
   "id": "818127c9",
   "metadata": {},
   "outputs": [],
   "source": []
  }
 ],
 "metadata": {
  "kernelspec": {
   "display_name": ".conda",
   "language": "python",
   "name": "python3"
  },
  "language_info": {
   "codemirror_mode": {
    "name": "ipython",
    "version": 3
   },
   "file_extension": ".py",
   "mimetype": "text/x-python",
   "name": "python",
   "nbconvert_exporter": "python",
   "pygments_lexer": "ipython3",
   "version": "3.12.11"
  }
 },
 "nbformat": 4,
 "nbformat_minor": 5
}
